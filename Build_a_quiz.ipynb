{
 "cells": [
  {
   "cell_type": "markdown",
   "metadata": {
    "colab_type": "text",
    "id": "FY347VxWs_bJ"
   },
   "source": [
    "# Build a quizz\n",
    "\n",
    "---\n",
    "\n",
    "\n"
   ]
  },
  {
   "cell_type": "markdown",
   "metadata": {
    "colab_type": "text",
    "id": "qJizpyqVwYnF"
   },
   "source": [
    "Let's tackle our first project together. Find a partner and start coding a quiz together! Your program should: \n",
    "\n",
    "1. Ask a question to a user via the console \n",
    "2. Verify whether the answer is correct or not \n",
    "3. If the answer is correct, you should print out: `Good job! This is the right answer`\n",
    "\n",
    "* Else, it should print out : `Too bad! that is not the correct answer`\n",
    "\n",
    "4. Ask three questions following this model.\n",
    "\n"
   ]
  },
  {
   "cell_type": "code",
   "execution_count": 4,
   "metadata": {
    "colab": {
     "base_uri": "https://localhost:8080/",
     "height": 136
    },
    "colab_type": "code",
    "id": "EQxWuVl7yFoU",
    "outputId": "cf3ee10c-9d8f-4d96-82b0-f730321d4a2f"
   },
   "outputs": [
    {
     "name": "stdout",
     "output_type": "stream",
     "text": [
      "What is the capital of Spain?Madrid\n",
      "Good job! This is the right answer\n"
     ]
    }
   ],
   "source": [
    "right_answer = 'Madrid'\n",
    "student_answer= input(\"What is the capital of Spain?\")\n",
    "if student_answer != right_answer:\n",
    "    print(\"Too bad! that is not correct\")\n",
    "else:\n",
    "    print(\"Good job! This is the right answer\")"
   ]
  },
  {
   "cell_type": "markdown",
   "metadata": {
    "colab_type": "text",
    "id": "sLMbYgaOyxiX"
   },
   "source": [
    "There's a problem with our quizz : if the user has not given the right answer, the program goes to next question. We would rather like to ask again the same question if the answer was wrong.\n",
    "\n",
    "5. Using a `while` loop, make sure that the same question will be asked again when the answer was wrong\n",
    "\n",
    "6. Rewrite your code such that this behaviour is applied to all questions."
   ]
  },
  {
   "cell_type": "code",
   "execution_count": 15,
   "metadata": {
    "colab": {
     "base_uri": "https://localhost:8080/",
     "height": 170
    },
    "colab_type": "code",
    "id": "csyxqJzBxPfN",
    "outputId": "0e671bec-2b70-424e-f110-d4792423dd7a"
   },
   "outputs": [
    {
     "name": "stdout",
     "output_type": "stream",
     "text": [
      "What is the capital of Spain?j\n",
      "Too bad! that is not correct.What is the capital of Spain?h\n",
      "Too bad! that is not correct.What is the capital of Spain?g\n",
      "Too bad! that is not correct.What is the capital of Spain?Madrid\n",
      "Good job! This is the right answer\n",
      "It took you 3 times to guess the right answer\n"
     ]
    }
   ],
   "source": [
    "right_answer = 'Madrid'\n",
    "counter = 0\n",
    "student_answer= input(\"What is the capital of Spain?\")\n",
    "\n",
    "while student_answer !=right_answer:\n",
    "    student_answer= input(\"Too bad! that is not correct.What is the capital of Spain?\")\n",
    "    counter += 1\n",
    "    \n",
    "print(\"Good job! This is the right answer\")\n",
    "print(f\"It took you {counter} times to guess the right answer\")"
   ]
  },
  {
   "cell_type": "markdown",
   "metadata": {
    "colab_type": "text",
    "id": "nh4voWn8x3dM"
   },
   "source": [
    "Now, we would like to tackle a last problem : we want to allow only 3 wrong answers (among all questions).\n",
    "\n",
    "7. Improve your code : if the user makes 3 wrong answers, the program should stop and print (\"Too bad, you lost the game !\")\n"
   ]
  },
  {
   "cell_type": "code",
   "execution_count": 18,
   "metadata": {
    "colab": {
     "base_uri": "https://localhost:8080/",
     "height": 170
    },
    "colab_type": "code",
    "id": "adKPQe1Hsi2g",
    "outputId": "45d36fc8-90ae-4f00-b73a-73b1e6e57e6e",
    "tags": []
   },
   "outputs": [
    {
     "name": "stdout",
     "output_type": "stream",
     "text": [
      "What is the capital of Spain?Madrid\n",
      "Good job! This is the right answer\n"
     ]
    }
   ],
   "source": [
    "right_answer = 'Madrid'\n",
    "counter = 0\n",
    "student_answer= input(\"What is the capital of Spain?\")\n",
    "\n",
    "while student_answer !=right_answer:\n",
    "    student_answer= input(\"Too bad! that is not correct.What is the capital of Spain?\")\n",
    "    counter += 1\n",
    "    if counter == 3:\n",
    "        print(\"You lost the game\")\n",
    "        break  \n",
    "print(\"Good job! This is the right answer\")"
   ]
  },
  {
   "cell_type": "code",
   "execution_count": null,
   "metadata": {
    "colab": {},
    "colab_type": "code",
    "id": "rA-XJKh-orgc"
   },
   "outputs": [],
   "source": []
  },
  {
   "cell_type": "markdown",
   "metadata": {},
   "source": [
    "Test Clement"
   ]
  }
 ],
 "metadata": {
  "colab": {
   "name": "Construire un quiz - SOLUTIONS S1-1A.ipynb",
   "provenance": []
  },
  "kernelspec": {
   "display_name": "Python 3",
   "language": "python",
   "name": "python3"
  },
  "language_info": {
   "codemirror_mode": {
    "name": "ipython",
    "version": 3
   },
   "file_extension": ".py",
   "mimetype": "text/x-python",
   "name": "python",
   "nbconvert_exporter": "python",
   "pygments_lexer": "ipython3",
   "version": "3.8.10"
  }
 },
 "nbformat": 4,
 "nbformat_minor": 1
}
